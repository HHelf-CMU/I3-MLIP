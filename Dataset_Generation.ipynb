{
 "cells": [
  {
   "cell_type": "code",
   "execution_count": 1,
   "metadata": {},
   "outputs": [],
   "source": [
    "import numpy as np"
   ]
  },
  {
   "cell_type": "code",
   "execution_count": 13,
   "metadata": {},
   "outputs": [],
   "source": [
    "import csv\n",
    "\n",
    "def onehot(length, index):\n",
    "    if index>=length:\n",
    "        return [0 for i in range(length)]\n",
    "    else:\n",
    "        arr = [0 for i in range(length)]\n",
    "        arr[index] = 1\n",
    "        return arr\n",
    "\n",
    "def generate_instance(counter):\n",
    "\n",
    "    np.random.seed(counter)\n",
    "    user_id = np.random.randint(1000)\n",
    "    movie_id = np.random.randint(1000)\n",
    "\n",
    "    np.random.seed(user_id)\n",
    "    age = 3+np.random.randint(47)\n",
    "    gender = np.round(np.random.random()*0.9)\n",
    "\n",
    "    np.random.seed(movie_id)\n",
    "    genre = np.random.randint(2)\n",
    "    critic = 10+np.random.randint(87)\n",
    "    return age, gender, genre, str(user_id), str(movie_id), critic\n",
    "\n",
    "def doesLike(age, gender, genre, critic, counter):\n",
    "    np.random.seed(counter)\n",
    "\n",
    "    score = 0\n",
    "\n",
    "    if genre == 0 and gender == 0 and age >= 15:\n",
    "        score = 1\n",
    "    if genre == 1 and gender == 1 and age >= 15:\n",
    "        score = 1\n",
    "    if genre == 2 and age < 25:\n",
    "        score = 1\n",
    "\n",
    "    if critic > 70:\n",
    "        score = 1\n",
    "    \n",
    "    if critic < 20:\n",
    "        score = 0\n",
    "\n",
    "    if np.random.random()+0.1*(1-gender)>0.98:\n",
    "        score = 1 - score\n",
    "    return score\n",
    "\n",
    "def generate_dataset(namestring, length):\n",
    "\n",
    "    data = [['User_ID','Movie_ID','age','gender','isAction','isRomance','isAnimated','Rating','didLike']]\n",
    "    for i in range(length):\n",
    "        age, gender, genre, user_id, movie_id, critic = generate_instance(i)\n",
    "        label = doesLike(age, gender, genre, critic, i)\n",
    "        instance = [user_id, movie_id, age, gender] + onehot(3, genre) + [critic, label]\n",
    "        data.append(instance)\n",
    "\n",
    "    with open(namestring, 'w', newline='') as file:\n",
    "        writer = csv.writer(file)\n",
    "        writer.writerows(data)\n",
    "\n",
    "\n",
    "generate_dataset('movie_dataset.csv', 1000)"
   ]
  }
 ],
 "metadata": {
  "kernelspec": {
   "display_name": "Python 3.9.12 ('base')",
   "language": "python",
   "name": "python3"
  },
  "language_info": {
   "codemirror_mode": {
    "name": "ipython",
    "version": 3
   },
   "file_extension": ".py",
   "mimetype": "text/x-python",
   "name": "python",
   "nbconvert_exporter": "python",
   "pygments_lexer": "ipython3",
   "version": "3.9.12"
  },
  "orig_nbformat": 4,
  "vscode": {
   "interpreter": {
    "hash": "cd7e7100b68b716a4f10ede5fe116b2f0bff10a5c6e73a9af04f029064e05cd2"
   }
  }
 },
 "nbformat": 4,
 "nbformat_minor": 2
}
